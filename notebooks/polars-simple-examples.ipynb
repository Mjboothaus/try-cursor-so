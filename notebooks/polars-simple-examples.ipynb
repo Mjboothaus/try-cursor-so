{
 "cells": [
  {
   "cell_type": "code",
   "execution_count": 1,
   "metadata": {},
   "outputs": [],
   "source": [
    "# Importing the Polars library\n",
    "\n",
    "import polars as pl"
   ]
  },
  {
   "cell_type": "code",
   "execution_count": 5,
   "metadata": {},
   "outputs": [
    {
     "data": {
      "text/html": [
       "<div><style>\n",
       ".dataframe > thead > tr > th,\n",
       ".dataframe > tbody > tr > td {\n",
       "  text-align: right;\n",
       "}\n",
       "</style>\n",
       "<small>shape: (3, 3)</small><table border=\"1\" class=\"dataframe\"><thead><tr><th>A</th><th>B</th><th>C</th></tr><tr><td>i64</td><td>i64</td><td>i64</td></tr></thead><tbody><tr><td>3</td><td>6</td><td>9</td></tr><tr><td>2</td><td>5</td><td>8</td></tr><tr><td>1</td><td>4</td><td>7</td></tr></tbody></table></div>"
      ],
      "text/plain": [
       "shape: (3, 3)\n",
       "┌─────┬─────┬─────┐\n",
       "│ A   ┆ B   ┆ C   │\n",
       "│ --- ┆ --- ┆ --- │\n",
       "│ i64 ┆ i64 ┆ i64 │\n",
       "╞═════╪═════╪═════╡\n",
       "│ 3   ┆ 6   ┆ 9   │\n",
       "│ 2   ┆ 5   ┆ 8   │\n",
       "│ 1   ┆ 4   ┆ 7   │\n",
       "└─────┴─────┴─────┘"
      ]
     },
     "execution_count": 5,
     "metadata": {},
     "output_type": "execute_result"
    }
   ],
   "source": [
    "# Creating a dataframe\n",
    "df = pl.DataFrame({\n",
    "    'A': [1, 2, 3],\n",
    "    'B': [4, 5, 6],\n",
    "    'C': [7, 8, 9]\n",
    "})\n",
    "\n",
    "# Selecting a column\n",
    "df.select('A')\n",
    "\n",
    "# Filtering rows\n",
    "df.filter(pl.col('B') > 4)\n",
    "\n",
    "# Grouping by a column and aggregating\n",
    "df.groupby('A').agg({'B': 'sum'})\n",
    "\n",
    "# Joining two dataframes\n",
    "df1 = pl.DataFrame({\n",
    "    'A': [1, 2, 3],\n",
    "    'B': [4, 5, 6]\n",
    "})\n",
    "df2 = pl.DataFrame({\n",
    "    'A': [1, 2, 3],\n",
    "    'C': [7, 8, 9]\n",
    "})\n",
    "df1.join(df2, on='A')\n",
    "\n",
    "# Sorting by a column\n",
    "df.sort('B', descending=True)"
   ]
  },
  {
   "cell_type": "code",
   "execution_count": 7,
   "metadata": {},
   "outputs": [
    {
     "data": {
      "text/html": [
       "<div><style>\n",
       ".dataframe > thead > tr > th,\n",
       ".dataframe > tbody > tr > td {\n",
       "  text-align: right;\n",
       "}\n",
       "</style>\n",
       "<small>shape: (3, 2)</small><table border=\"1\" class=\"dataframe\"><thead><tr><th>A</th><th>B</th></tr><tr><td>i64</td><td>i64</td></tr></thead><tbody><tr><td>1</td><td>4</td></tr><tr><td>2</td><td>5</td></tr><tr><td>3</td><td>6</td></tr></tbody></table></div>"
      ],
      "text/plain": [
       "shape: (3, 2)\n",
       "┌─────┬─────┐\n",
       "│ A   ┆ B   │\n",
       "│ --- ┆ --- │\n",
       "│ i64 ┆ i64 │\n",
       "╞═════╪═════╡\n",
       "│ 1   ┆ 4   │\n",
       "│ 2   ┆ 5   │\n",
       "│ 3   ┆ 6   │\n",
       "└─────┴─────┘"
      ]
     },
     "execution_count": 7,
     "metadata": {},
     "output_type": "execute_result"
    }
   ],
   "source": [
    "# Adding a new column\n",
    "# df.with_column(pl.col('A') * 2, 'D')\n",
    "\n",
    "# Renaming a column\n",
    "df.rename({'A': 'New_A'})\n",
    "\n",
    "# Dropping a column\n",
    "df.drop('C')\n"
   ]
  },
  {
   "cell_type": "code",
   "execution_count": 8,
   "metadata": {},
   "outputs": [
    {
     "ename": "TypeError",
     "evalue": "'DataFrame' object does not support 'Series' assignment by index. Use 'DataFrame.with_columns'",
     "output_type": "error",
     "traceback": [
      "\u001b[0;31m---------------------------------------------------------------------------\u001b[0m",
      "\u001b[0;31mTypeError\u001b[0m                                 Traceback (most recent call last)",
      "Cell \u001b[0;32mIn[8], line 17\u001b[0m\n\u001b[1;32m     10\u001b[0m df \u001b[39m=\u001b[39m pl\u001b[39m.\u001b[39mDataFrame({\n\u001b[1;32m     11\u001b[0m     \u001b[39m'\u001b[39m\u001b[39mA\u001b[39m\u001b[39m'\u001b[39m: [\u001b[39m1\u001b[39m, \u001b[39m2\u001b[39m, \u001b[39m3\u001b[39m, \u001b[39m4\u001b[39m, \u001b[39m5\u001b[39m],\n\u001b[1;32m     12\u001b[0m     \u001b[39m'\u001b[39m\u001b[39mB\u001b[39m\u001b[39m'\u001b[39m: [\u001b[39m6\u001b[39m, \u001b[39m7\u001b[39m, \u001b[39m8\u001b[39m, \u001b[39m9\u001b[39m, \u001b[39m10\u001b[39m],\n\u001b[1;32m     13\u001b[0m     \u001b[39m'\u001b[39m\u001b[39mC\u001b[39m\u001b[39m'\u001b[39m: [\u001b[39m11\u001b[39m, \u001b[39m12\u001b[39m, \u001b[39m13\u001b[39m, \u001b[39m14\u001b[39m, \u001b[39m15\u001b[39m]\n\u001b[1;32m     14\u001b[0m })\n\u001b[1;32m     16\u001b[0m \u001b[39m# Apply the user defined function to a column\u001b[39;00m\n\u001b[0;32m---> 17\u001b[0m df[\u001b[39m'\u001b[39;49m\u001b[39mA\u001b[39;49m\u001b[39m'\u001b[39;49m] \u001b[39m=\u001b[39m df[\u001b[39m'\u001b[39m\u001b[39mA\u001b[39m\u001b[39m'\u001b[39m]\u001b[39m.\u001b[39mapply(my_udf)\n\u001b[1;32m     19\u001b[0m \u001b[39m# Filter the DataFrame\u001b[39;00m\n\u001b[1;32m     20\u001b[0m df_filtered \u001b[39m=\u001b[39m df[df[\u001b[39m'\u001b[39m\u001b[39mB\u001b[39m\u001b[39m'\u001b[39m] \u001b[39m>\u001b[39m \u001b[39m7\u001b[39m]\n",
      "File \u001b[0;32m~/code/github/mjboothaus/try-cursor-so/.venv/lib/python3.10/site-packages/polars/dataframe/frame.py:1668\u001b[0m, in \u001b[0;36mDataFrame.__setitem__\u001b[0;34m(self, key, value)\u001b[0m\n\u001b[1;32m   1661\u001b[0m \u001b[39mdef\u001b[39;00m \u001b[39m__setitem__\u001b[39m(\n\u001b[1;32m   1662\u001b[0m     \u001b[39mself\u001b[39m,\n\u001b[1;32m   1663\u001b[0m     key: \u001b[39mstr\u001b[39m \u001b[39m|\u001b[39m Sequence[\u001b[39mint\u001b[39m] \u001b[39m|\u001b[39m Sequence[\u001b[39mstr\u001b[39m] \u001b[39m|\u001b[39m \u001b[39mtuple\u001b[39m[Any, \u001b[39mstr\u001b[39m \u001b[39m|\u001b[39m \u001b[39mint\u001b[39m],\n\u001b[1;32m   1664\u001b[0m     value: Any,\n\u001b[1;32m   1665\u001b[0m ) \u001b[39m-\u001b[39m\u001b[39m>\u001b[39m \u001b[39mNone\u001b[39;00m:  \u001b[39m# pragma: no cover\u001b[39;00m\n\u001b[1;32m   1666\u001b[0m     \u001b[39m# df[\"foo\"] = series\u001b[39;00m\n\u001b[1;32m   1667\u001b[0m     \u001b[39mif\u001b[39;00m \u001b[39misinstance\u001b[39m(key, \u001b[39mstr\u001b[39m):\n\u001b[0;32m-> 1668\u001b[0m         \u001b[39mraise\u001b[39;00m \u001b[39mTypeError\u001b[39;00m(\n\u001b[1;32m   1669\u001b[0m             \u001b[39m\"\u001b[39m\u001b[39m'\u001b[39m\u001b[39mDataFrame\u001b[39m\u001b[39m'\u001b[39m\u001b[39m object does not support \u001b[39m\u001b[39m'\u001b[39m\u001b[39mSeries\u001b[39m\u001b[39m'\u001b[39m\u001b[39m assignment by index. \u001b[39m\u001b[39m\"\u001b[39m\n\u001b[1;32m   1670\u001b[0m             \u001b[39m\"\u001b[39m\u001b[39mUse \u001b[39m\u001b[39m'\u001b[39m\u001b[39mDataFrame.with_columns\u001b[39m\u001b[39m'\u001b[39m\u001b[39m\"\u001b[39m\n\u001b[1;32m   1671\u001b[0m         )\n\u001b[1;32m   1673\u001b[0m     \u001b[39m# df[[\"C\", \"D\"]]\u001b[39;00m\n\u001b[1;32m   1674\u001b[0m     \u001b[39melif\u001b[39;00m \u001b[39misinstance\u001b[39m(key, \u001b[39mlist\u001b[39m):\n\u001b[1;32m   1675\u001b[0m         \u001b[39m# TODO: Use python sequence constructors\u001b[39;00m\n",
      "\u001b[0;31mTypeError\u001b[0m: 'DataFrame' object does not support 'Series' assignment by index. Use 'DataFrame.with_columns'"
     ]
    }
   ],
   "source": [
    "# Create some complex examples of using Polars\n",
    "# Import Polars\n",
    "import polars as pl\n",
    "\n",
    "# Define a user defined function\n",
    "def my_udf(x: pl.Series) -> pl.Series:\n",
    "    return x * 2\n",
    "\n",
    "# Create a DataFrame\n",
    "df = pl.DataFrame({\n",
    "    'A': [1, 2, 3, 4, 5],\n",
    "    'B': [6, 7, 8, 9, 10],\n",
    "    'C': [11, 12, 13, 14, 15]\n",
    "})\n",
    "\n",
    "# Apply the user defined function to a column\n",
    "df['A'] = df['A'].apply(my_udf)\n",
    "\n",
    "# Filter the DataFrame\n",
    "df_filtered = df[df['B'] > 7]\n",
    "\n",
    "# Group by a column and apply a user defined function to another column\n",
    "df_grouped = df.groupby('C').agg({'B': my_udf})\n",
    "\n",
    "# Merge two DataFrames\n",
    "df2 = pl.DataFrame({\n",
    "    'C': [11, 12, 13, 14, 15],\n",
    "    'D': [16, 17, 18, 19, 20]\n",
    "})\n",
    "df_merged = df.join(df2, on='C')\n",
    "\n",
    "# Sort the DataFrame\n",
    "df_sorted = df.sort('B', reverse=True)\n",
    "\n",
    "# Pivot the DataFrame\n",
    "df_pivoted = df.pivot(['A', 'B'], 'C', 'D')\n",
    "\n",
    "# Aggregate the DataFrame\n",
    "df_aggregated = df.agg(['min', 'max', 'mean'])\n",
    "\n",
    "# Join two DataFrames using a user defined function\n",
    "def my_join_udf(left: pl.DataFrame, right: pl.DataFrame) -> pl.DataFrame:\n",
    "    return left.join(right, on='C')\n",
    "df_joined = df.join(df2, on='C', how=my_join_udf)\n",
    "\n",
    "# Print the DataFrames\n",
    "print(df)\n",
    "print(df_filtered)\n",
    "print(df_grouped)\n",
    "print(df_merged)\n",
    "print(df_sorted)\n",
    "print(df_pivoted)\n",
    "print(df_aggregated)\n",
    "print(df_joined)\n"
   ]
  },
  {
   "cell_type": "code",
   "execution_count": null,
   "metadata": {},
   "outputs": [],
   "source": []
  }
 ],
 "metadata": {
  "kernelspec": {
   "display_name": ".venv",
   "language": "python",
   "name": "python3"
  },
  "language_info": {
   "codemirror_mode": {
    "name": "ipython",
    "version": 3
   },
   "file_extension": ".py",
   "mimetype": "text/x-python",
   "name": "python",
   "nbconvert_exporter": "python",
   "pygments_lexer": "ipython3",
   "version": "3.10.10"
  },
  "orig_nbformat": 4
 },
 "nbformat": 4,
 "nbformat_minor": 2
}
