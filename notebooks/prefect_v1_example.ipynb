{
 "cells": [
  {
   "cell_type": "code",
   "execution_count": 1,
   "metadata": {},
   "outputs": [
    {
     "ename": "ModuleNotFoundError",
     "evalue": "No module named 'prefect.schedules'",
     "output_type": "error",
     "traceback": [
      "\u001b[0;31m---------------------------------------------------------------------------\u001b[0m",
      "\u001b[0;31mModuleNotFoundError\u001b[0m                       Traceback (most recent call last)",
      "Cell \u001b[0;32mIn[1], line 3\u001b[0m\n\u001b[1;32m      1\u001b[0m \u001b[39mimport\u001b[39;00m \u001b[39mprefect\u001b[39;00m\n\u001b[1;32m      2\u001b[0m \u001b[39mfrom\u001b[39;00m \u001b[39mprefect\u001b[39;00m \u001b[39mimport\u001b[39;00m task, Flow\n\u001b[0;32m----> 3\u001b[0m \u001b[39mfrom\u001b[39;00m \u001b[39mprefect\u001b[39;00m\u001b[39m.\u001b[39;00m\u001b[39mschedules\u001b[39;00m \u001b[39mimport\u001b[39;00m Schedule\n\u001b[1;32m      4\u001b[0m \u001b[39mfrom\u001b[39;00m \u001b[39mprefect\u001b[39;00m\u001b[39m.\u001b[39;00m\u001b[39mschedules\u001b[39;00m\u001b[39m.\u001b[39;00m\u001b[39mclocks\u001b[39;00m \u001b[39mimport\u001b[39;00m CronClock\n",
      "\u001b[0;31mModuleNotFoundError\u001b[0m: No module named 'prefect.schedules'"
     ]
    }
   ],
   "source": [
    "import prefect\n",
    "from prefect import task, Flow\n",
    "from prefect.schedules import Schedule\n",
    "from prefect.schedules.clocks import CronClock\n"
   ]
  },
  {
   "cell_type": "code",
   "execution_count": null,
   "metadata": {},
   "outputs": [],
   "source": [
    "@task\n",
    "def my_task():\n",
    "    print(\"Hello, world!\")\n",
    "\n",
    "schedule = Schedule(clocks=[CronClock(\"30 7 * * *\")])\n",
    "\n",
    "with Flow(\"my-flow\", schedule=schedule) as flow:\n",
    "    my_task()\n",
    "\n",
    "flow.run()"
   ]
  }
 ],
 "metadata": {
  "kernelspec": {
   "display_name": ".venv",
   "language": "python",
   "name": "python3"
  },
  "language_info": {
   "codemirror_mode": {
    "name": "ipython",
    "version": 3
   },
   "file_extension": ".py",
   "mimetype": "text/x-python",
   "name": "python",
   "nbconvert_exporter": "python",
   "pygments_lexer": "ipython3",
   "version": "3.10.10"
  },
  "orig_nbformat": 4
 },
 "nbformat": 4,
 "nbformat_minor": 2
}
