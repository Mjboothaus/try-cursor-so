{
 "cells": [
  {
   "cell_type": "code",
   "execution_count": null,
   "metadata": {},
   "outputs": [],
   "source": [
    "# Importing the Polars library\n",
    "import polars as pl"
   ]
  },
  {
   "cell_type": "code",
   "execution_count": null,
   "metadata": {},
   "outputs": [],
   "source": [
    "\n",
    "\n",
    "# Creating a dataframe\n",
    "df = pl.DataFrame({\n",
    "    'A': [1, 2, 3],\n",
    "    'B': [4, 5, 6],\n",
    "    'C': [7, 8, 9]\n",
    "})\n",
    "\n",
    "# Selecting a column\n",
    "df.select('A')\n",
    "\n",
    "# Filtering rows\n",
    "df.filter(pl.col('B') > 4)\n",
    "\n",
    "# Grouping by a column and aggregating\n",
    "df.groupby('A').agg({'B': 'sum'})\n",
    "\n",
    "# Joining two dataframes\n",
    "df1 = pl.DataFrame({\n",
    "    'A': [1, 2, 3],\n",
    "    'B': [4, 5, 6]\n",
    "})\n",
    "df2 = pl.DataFrame({\n",
    "    'A': [1, 2, 3],\n",
    "    'C': [7, 8, 9]\n",
    "})\n",
    "df1.join(df2, on='A')\n",
    "\n",
    "# Sorting by a column\n",
    "df.sort('B', reverse=True)\n",
    "\n",
    "# Adding a new column\n",
    "df.with_column(pl.col('A') * 2, 'D')\n",
    "\n",
    "# Renaming a column\n",
    "df.rename({'A': 'New_A'})\n",
    "\n",
    "# Dropping a column\n",
    "df.drop('C')\n"
   ]
  }
 ],
 "metadata": {
  "kernelspec": {
   "display_name": ".venv",
   "language": "python",
   "name": "python3"
  },
  "language_info": {
   "name": "python",
   "version": "3.10.10"
  },
  "orig_nbformat": 4
 },
 "nbformat": 4,
 "nbformat_minor": 2
}
